{
  "nbformat": 4,
  "nbformat_minor": 0,
  "metadata": {
    "colab": {
      "name": "9_encrypted_database.ipynb",
      "version": "0.3.2",
      "provenance": [],
      "collapsed_sections": [],
      "include_colab_link": true
    },
    "kernelspec": {
      "name": "python3",
      "display_name": "Python 3"
    },
    "accelerator": "GPU"
  },
  "cells": [
    {
      "cell_type": "markdown",
      "metadata": {
        "id": "view-in-github",
        "colab_type": "text"
      },
      "source": [
        "<a href=\"https://colab.research.google.com/github/anirbansen3027/SecureAndPrivateAI/blob/master/9_encrypted_database.ipynb\" target=\"_parent\"><img src=\"https://colab.research.google.com/assets/colab-badge.svg\" alt=\"Open In Colab\"/></a>"
      ]
    },
    {
      "cell_type": "code",
      "metadata": {
        "id": "U2o9pv9CE0pl",
        "colab_type": "code",
        "outputId": "c4f1510a-8335-482d-fcb6-f43818edf341",
        "colab": {
          "base_uri": "https://localhost:8080/",
          "height": 1000
        }
      },
      "source": [
        "!pip install syft"
      ],
      "execution_count": 0,
      "outputs": [
        {
          "output_type": "stream",
          "text": [
            "Collecting syft\n",
            "\u001b[?25l  Downloading https://files.pythonhosted.org/packages/38/2e/16bdefc78eb089e1efa9704c33b8f76f035a30dc935bedd7cbb22f6dabaa/syft-0.1.21a1-py3-none-any.whl (219kB)\n",
            "\r\u001b[K     |█▌                              | 10kB 20.2MB/s eta 0:00:01\r\u001b[K     |███                             | 20kB 2.2MB/s eta 0:00:01\r\u001b[K     |████▌                           | 30kB 3.2MB/s eta 0:00:01\r\u001b[K     |██████                          | 40kB 2.1MB/s eta 0:00:01\r\u001b[K     |███████▌                        | 51kB 2.6MB/s eta 0:00:01\r\u001b[K     |█████████                       | 61kB 3.1MB/s eta 0:00:01\r\u001b[K     |██████████▍                     | 71kB 3.6MB/s eta 0:00:01\r\u001b[K     |████████████                    | 81kB 4.1MB/s eta 0:00:01\r\u001b[K     |█████████████▍                  | 92kB 4.6MB/s eta 0:00:01\r\u001b[K     |███████████████                 | 102kB 3.5MB/s eta 0:00:01\r\u001b[K     |████████████████▍               | 112kB 3.5MB/s eta 0:00:01\r\u001b[K     |█████████████████▉              | 122kB 3.5MB/s eta 0:00:01\r\u001b[K     |███████████████████▍            | 133kB 3.5MB/s eta 0:00:01\r\u001b[K     |████████████████████▉           | 143kB 3.5MB/s eta 0:00:01\r\u001b[K     |██████████████████████▍         | 153kB 3.5MB/s eta 0:00:01\r\u001b[K     |███████████████████████▉        | 163kB 3.5MB/s eta 0:00:01\r\u001b[K     |█████████████████████████▎      | 174kB 3.5MB/s eta 0:00:01\r\u001b[K     |██████████████████████████▉     | 184kB 3.5MB/s eta 0:00:01\r\u001b[K     |████████████████████████████▎   | 194kB 3.5MB/s eta 0:00:01\r\u001b[K     |█████████████████████████████▉  | 204kB 3.5MB/s eta 0:00:01\r\u001b[K     |███████████████████████████████▎| 215kB 3.5MB/s eta 0:00:01\r\u001b[K     |████████████████████████████████| 225kB 3.5MB/s \n",
            "\u001b[?25hCollecting flask-socketio>=3.3.2 (from syft)\n",
            "  Downloading https://files.pythonhosted.org/packages/33/31/f779e69e59f528684d8c9925b3c82a9303d148655d9671ba2975ab8c3894/Flask_SocketIO-4.2.0-py2.py3-none-any.whl\n",
            "Requirement already satisfied: tblib>=1.4.0 in /usr/local/lib/python3.6/dist-packages (from syft) (1.4.0)\n",
            "Requirement already satisfied: torch>=1.1 in /usr/local/lib/python3.6/dist-packages (from syft) (1.1.0)\n",
            "Collecting tf-encrypted>=0.5.4 (from syft)\n",
            "\u001b[?25l  Downloading https://files.pythonhosted.org/packages/55/ff/7dbd5fc77fcec0df1798268a6b72a2ab0150b854761bc39c77d566798f0b/tf_encrypted-0.5.7-py3-none-manylinux1_x86_64.whl (2.1MB)\n",
            "\r\u001b[K     |▏                               | 10kB 26.9MB/s eta 0:00:01\r\u001b[K     |▎                               | 20kB 37.2MB/s eta 0:00:01\r\u001b[K     |▌                               | 30kB 43.8MB/s eta 0:00:01\r\u001b[K     |▋                               | 40kB 49.5MB/s eta 0:00:01\r\u001b[K     |▉                               | 51kB 52.5MB/s eta 0:00:01\r\u001b[K     |█                               | 61kB 56.5MB/s eta 0:00:01\r\u001b[K     |█                               | 71kB 59.2MB/s eta 0:00:01\r\u001b[K     |█▎                              | 81kB 60.6MB/s eta 0:00:01\r\u001b[K     |█▍                              | 92kB 63.8MB/s eta 0:00:01\r\u001b[K     |█▋                              | 102kB 66.5MB/s eta 0:00:01\r\u001b[K     |█▊                              | 112kB 66.5MB/s eta 0:00:01\r\u001b[K     |█▉                              | 122kB 66.5MB/s eta 0:00:01\r\u001b[K     |██                              | 133kB 66.5MB/s eta 0:00:01\r\u001b[K     |██▏                             | 143kB 66.5MB/s eta 0:00:01\r\u001b[K     |██▍                             | 153kB 66.5MB/s eta 0:00:01\r\u001b[K     |██▌                             | 163kB 66.5MB/s eta 0:00:01\r\u001b[K     |██▋                             | 174kB 66.5MB/s eta 0:00:01\r\u001b[K     |██▉                             | 184kB 66.5MB/s eta 0:00:01\r\u001b[K     |███                             | 194kB 66.5MB/s eta 0:00:01\r\u001b[K     |███▏                            | 204kB 66.5MB/s eta 0:00:01\r\u001b[K     |███▎                            | 215kB 66.5MB/s eta 0:00:01\r\u001b[K     |███▌                            | 225kB 66.5MB/s eta 0:00:01\r\u001b[K     |███▋                            | 235kB 66.5MB/s eta 0:00:01\r\u001b[K     |███▊                            | 245kB 66.5MB/s eta 0:00:01\r\u001b[K     |████                            | 256kB 66.5MB/s eta 0:00:01\r\u001b[K     |████                            | 266kB 66.5MB/s eta 0:00:01\r\u001b[K     |████▎                           | 276kB 66.5MB/s eta 0:00:01\r\u001b[K     |████▍                           | 286kB 66.5MB/s eta 0:00:01\r\u001b[K     |████▌                           | 296kB 66.5MB/s eta 0:00:01\r\u001b[K     |████▊                           | 307kB 66.5MB/s eta 0:00:01\r\u001b[K     |████▉                           | 317kB 66.5MB/s eta 0:00:01\r\u001b[K     |█████                           | 327kB 66.5MB/s eta 0:00:01\r\u001b[K     |█████▏                          | 337kB 66.5MB/s eta 0:00:01\r\u001b[K     |█████▎                          | 348kB 66.5MB/s eta 0:00:01\r\u001b[K     |█████▌                          | 358kB 66.5MB/s eta 0:00:01\r\u001b[K     |█████▋                          | 368kB 66.5MB/s eta 0:00:01\r\u001b[K     |█████▉                          | 378kB 66.5MB/s eta 0:00:01\r\u001b[K     |██████                          | 389kB 66.5MB/s eta 0:00:01\r\u001b[K     |██████                          | 399kB 66.5MB/s eta 0:00:01\r\u001b[K     |██████▎                         | 409kB 66.5MB/s eta 0:00:01\r\u001b[K     |██████▍                         | 419kB 66.5MB/s eta 0:00:01\r\u001b[K     |██████▋                         | 430kB 66.5MB/s eta 0:00:01\r\u001b[K     |██████▊                         | 440kB 66.5MB/s eta 0:00:01\r\u001b[K     |███████                         | 450kB 66.5MB/s eta 0:00:01\r\u001b[K     |███████                         | 460kB 66.5MB/s eta 0:00:01\r\u001b[K     |███████▏                        | 471kB 66.5MB/s eta 0:00:01\r\u001b[K     |███████▍                        | 481kB 66.5MB/s eta 0:00:01\r\u001b[K     |███████▌                        | 491kB 66.5MB/s eta 0:00:01\r\u001b[K     |███████▊                        | 501kB 66.5MB/s eta 0:00:01\r\u001b[K     |███████▉                        | 512kB 66.5MB/s eta 0:00:01\r\u001b[K     |████████                        | 522kB 66.5MB/s eta 0:00:01\r\u001b[K     |████████▏                       | 532kB 66.5MB/s eta 0:00:01\r\u001b[K     |████████▎                       | 542kB 66.5MB/s eta 0:00:01\r\u001b[K     |████████▌                       | 552kB 66.5MB/s eta 0:00:01\r\u001b[K     |████████▋                       | 563kB 66.5MB/s eta 0:00:01\r\u001b[K     |████████▊                       | 573kB 66.5MB/s eta 0:00:01\r\u001b[K     |█████████                       | 583kB 66.5MB/s eta 0:00:01\r\u001b[K     |█████████                       | 593kB 66.5MB/s eta 0:00:01\r\u001b[K     |█████████▎                      | 604kB 66.5MB/s eta 0:00:01\r\u001b[K     |█████████▍                      | 614kB 66.5MB/s eta 0:00:01\r\u001b[K     |█████████▌                      | 624kB 66.5MB/s eta 0:00:01\r\u001b[K     |█████████▊                      | 634kB 66.5MB/s eta 0:00:01\r\u001b[K     |█████████▉                      | 645kB 66.5MB/s eta 0:00:01\r\u001b[K     |██████████                      | 655kB 66.5MB/s eta 0:00:01\r\u001b[K     |██████████▏                     | 665kB 66.5MB/s eta 0:00:01\r\u001b[K     |██████████▍                     | 675kB 66.5MB/s eta 0:00:01\r\u001b[K     |██████████▌                     | 686kB 66.5MB/s eta 0:00:01\r\u001b[K     |██████████▋                     | 696kB 66.5MB/s eta 0:00:01\r\u001b[K     |██████████▉                     | 706kB 66.5MB/s eta 0:00:01\r\u001b[K     |███████████                     | 716kB 66.5MB/s eta 0:00:01\r\u001b[K     |███████████▏                    | 727kB 66.5MB/s eta 0:00:01\r\u001b[K     |███████████▎                    | 737kB 66.5MB/s eta 0:00:01\r\u001b[K     |███████████▍                    | 747kB 66.5MB/s eta 0:00:01\r\u001b[K     |███████████▋                    | 757kB 66.5MB/s eta 0:00:01\r\u001b[K     |███████████▊                    | 768kB 66.5MB/s eta 0:00:01\r\u001b[K     |████████████                    | 778kB 66.5MB/s eta 0:00:01\r\u001b[K     |████████████                    | 788kB 66.5MB/s eta 0:00:01\r\u001b[K     |████████████▏                   | 798kB 66.5MB/s eta 0:00:01\r\u001b[K     |████████████▍                   | 808kB 66.5MB/s eta 0:00:01\r\u001b[K     |████████████▌                   | 819kB 66.5MB/s eta 0:00:01\r\u001b[K     |████████████▊                   | 829kB 66.5MB/s eta 0:00:01\r\u001b[K     |████████████▉                   | 839kB 66.5MB/s eta 0:00:01\r\u001b[K     |█████████████                   | 849kB 66.5MB/s eta 0:00:01\r\u001b[K     |█████████████▏                  | 860kB 66.5MB/s eta 0:00:01\r\u001b[K     |█████████████▎                  | 870kB 66.5MB/s eta 0:00:01\r\u001b[K     |█████████████▌                  | 880kB 66.5MB/s eta 0:00:01\r\u001b[K     |█████████████▋                  | 890kB 66.5MB/s eta 0:00:01\r\u001b[K     |█████████████▉                  | 901kB 66.5MB/s eta 0:00:01\r\u001b[K     |██████████████                  | 911kB 66.5MB/s eta 0:00:01\r\u001b[K     |██████████████                  | 921kB 66.5MB/s eta 0:00:01\r\u001b[K     |██████████████▎                 | 931kB 66.5MB/s eta 0:00:01\r\u001b[K     |██████████████▍                 | 942kB 66.5MB/s eta 0:00:01\r\u001b[K     |██████████████▋                 | 952kB 66.5MB/s eta 0:00:01\r\u001b[K     |██████████████▊                 | 962kB 66.5MB/s eta 0:00:01\r\u001b[K     |██████████████▉                 | 972kB 66.5MB/s eta 0:00:01\r\u001b[K     |███████████████                 | 983kB 66.5MB/s eta 0:00:01\r\u001b[K     |███████████████▏                | 993kB 66.5MB/s eta 0:00:01\r\u001b[K     |███████████████▍                | 1.0MB 66.5MB/s eta 0:00:01\r\u001b[K     |███████████████▌                | 1.0MB 66.5MB/s eta 0:00:01\r\u001b[K     |███████████████▋                | 1.0MB 66.5MB/s eta 0:00:01\r\u001b[K     |███████████████▉                | 1.0MB 66.5MB/s eta 0:00:01\r\u001b[K     |████████████████                | 1.0MB 66.5MB/s eta 0:00:01\r\u001b[K     |████████████████▏               | 1.1MB 66.5MB/s eta 0:00:01\r\u001b[K     |████████████████▎               | 1.1MB 66.5MB/s eta 0:00:01\r\u001b[K     |████████████████▍               | 1.1MB 66.5MB/s eta 0:00:01\r\u001b[K     |████████████████▋               | 1.1MB 66.5MB/s eta 0:00:01\r\u001b[K     |████████████████▊               | 1.1MB 66.5MB/s eta 0:00:01\r\u001b[K     |█████████████████               | 1.1MB 66.5MB/s eta 0:00:01\r\u001b[K     |█████████████████               | 1.1MB 66.5MB/s eta 0:00:01\r\u001b[K     |█████████████████▎              | 1.1MB 66.5MB/s eta 0:00:01\r\u001b[K     |█████████████████▍              | 1.1MB 66.5MB/s eta 0:00:01\r\u001b[K     |█████████████████▌              | 1.1MB 66.5MB/s eta 0:00:01\r\u001b[K     |█████████████████▊              | 1.2MB 66.5MB/s eta 0:00:01\r\u001b[K     |█████████████████▉              | 1.2MB 66.5MB/s eta 0:00:01\r\u001b[K     |██████████████████              | 1.2MB 66.5MB/s eta 0:00:01\r\u001b[K     |██████████████████▏             | 1.2MB 66.5MB/s eta 0:00:01\r\u001b[K     |██████████████████▎             | 1.2MB 66.5MB/s eta 0:00:01\r\u001b[K     |██████████████████▌             | 1.2MB 66.5MB/s eta 0:00:01\r\u001b[K     |██████████████████▋             | 1.2MB 66.5MB/s eta 0:00:01\r\u001b[K     |██████████████████▉             | 1.2MB 66.5MB/s eta 0:00:01\r\u001b[K     |███████████████████             | 1.2MB 66.5MB/s eta 0:00:01\r\u001b[K     |███████████████████             | 1.2MB 66.5MB/s eta 0:00:01\r\u001b[K     |███████████████████▎            | 1.3MB 66.5MB/s eta 0:00:01\r\u001b[K     |███████████████████▍            | 1.3MB 66.5MB/s eta 0:00:01\r\u001b[K     |███████████████████▋            | 1.3MB 66.5MB/s eta 0:00:01\r\u001b[K     |███████████████████▊            | 1.3MB 66.5MB/s eta 0:00:01\r\u001b[K     |████████████████████            | 1.3MB 66.5MB/s eta 0:00:01\r\u001b[K     |████████████████████            | 1.3MB 66.5MB/s eta 0:00:01\r\u001b[K     |████████████████████▏           | 1.3MB 66.5MB/s eta 0:00:01\r\u001b[K     |████████████████████▍           | 1.3MB 66.5MB/s eta 0:00:01\r\u001b[K     |████████████████████▌           | 1.3MB 66.5MB/s eta 0:00:01\r\u001b[K     |████████████████████▊           | 1.4MB 66.5MB/s eta 0:00:01\r\u001b[K     |████████████████████▉           | 1.4MB 66.5MB/s eta 0:00:01\r\u001b[K     |█████████████████████           | 1.4MB 66.5MB/s eta 0:00:01\r\u001b[K     |█████████████████████▏          | 1.4MB 66.5MB/s eta 0:00:01\r\u001b[K     |█████████████████████▎          | 1.4MB 66.5MB/s eta 0:00:01\r\u001b[K     |█████████████████████▌          | 1.4MB 66.5MB/s eta 0:00:01\r\u001b[K     |█████████████████████▋          | 1.4MB 66.5MB/s eta 0:00:01\r\u001b[K     |█████████████████████▊          | 1.4MB 66.5MB/s eta 0:00:01\r\u001b[K     |██████████████████████          | 1.4MB 66.5MB/s eta 0:00:01\r\u001b[K     |██████████████████████          | 1.4MB 66.5MB/s eta 0:00:01\r\u001b[K     |██████████████████████▎         | 1.5MB 66.5MB/s eta 0:00:01\r\u001b[K     |██████████████████████▍         | 1.5MB 66.5MB/s eta 0:00:01\r\u001b[K     |██████████████████████▌         | 1.5MB 66.5MB/s eta 0:00:01\r\u001b[K     |██████████████████████▊         | 1.5MB 66.5MB/s eta 0:00:01\r\u001b[K     |██████████████████████▉         | 1.5MB 66.5MB/s eta 0:00:01\r\u001b[K     |███████████████████████         | 1.5MB 66.5MB/s eta 0:00:01\r\u001b[K     |███████████████████████▏        | 1.5MB 66.5MB/s eta 0:00:01\r\u001b[K     |███████████████████████▍        | 1.5MB 66.5MB/s eta 0:00:01\r\u001b[K     |███████████████████████▌        | 1.5MB 66.5MB/s eta 0:00:01\r\u001b[K     |███████████████████████▋        | 1.5MB 66.5MB/s eta 0:00:01\r\u001b[K     |███████████████████████▉        | 1.6MB 66.5MB/s eta 0:00:01\r\u001b[K     |████████████████████████        | 1.6MB 66.5MB/s eta 0:00:01\r\u001b[K     |████████████████████████▏       | 1.6MB 66.5MB/s eta 0:00:01\r\u001b[K     |████████████████████████▎       | 1.6MB 66.5MB/s eta 0:00:01\r\u001b[K     |████████████████████████▍       | 1.6MB 66.5MB/s eta 0:00:01\r\u001b[K     |████████████████████████▋       | 1.6MB 66.5MB/s eta 0:00:01\r\u001b[K     |████████████████████████▊       | 1.6MB 66.5MB/s eta 0:00:01\r\u001b[K     |█████████████████████████       | 1.6MB 66.5MB/s eta 0:00:01\r\u001b[K     |█████████████████████████       | 1.6MB 66.5MB/s eta 0:00:01\r\u001b[K     |█████████████████████████▏      | 1.6MB 66.5MB/s eta 0:00:01\r\u001b[K     |█████████████████████████▍      | 1.7MB 66.5MB/s eta 0:00:01\r\u001b[K     |█████████████████████████▌      | 1.7MB 66.5MB/s eta 0:00:01\r\u001b[K     |█████████████████████████▊      | 1.7MB 66.5MB/s eta 0:00:01\r\u001b[K     |█████████████████████████▉      | 1.7MB 66.5MB/s eta 0:00:01\r\u001b[K     |██████████████████████████      | 1.7MB 66.5MB/s eta 0:00:01\r\u001b[K     |██████████████████████████▏     | 1.7MB 66.5MB/s eta 0:00:01\r\u001b[K     |██████████████████████████▎     | 1.7MB 66.5MB/s eta 0:00:01\r\u001b[K     |██████████████████████████▌     | 1.7MB 66.5MB/s eta 0:00:01\r\u001b[K     |██████████████████████████▋     | 1.7MB 66.5MB/s eta 0:00:01\r\u001b[K     |██████████████████████████▉     | 1.8MB 66.5MB/s eta 0:00:01\r\u001b[K     |███████████████████████████     | 1.8MB 66.5MB/s eta 0:00:01\r\u001b[K     |███████████████████████████     | 1.8MB 66.5MB/s eta 0:00:01\r\u001b[K     |███████████████████████████▎    | 1.8MB 66.5MB/s eta 0:00:01\r\u001b[K     |███████████████████████████▍    | 1.8MB 66.5MB/s eta 0:00:01\r\u001b[K     |███████████████████████████▋    | 1.8MB 66.5MB/s eta 0:00:01\r\u001b[K     |███████████████████████████▊    | 1.8MB 66.5MB/s eta 0:00:01\r\u001b[K     |███████████████████████████▉    | 1.8MB 66.5MB/s eta 0:00:01\r\u001b[K     |████████████████████████████    | 1.8MB 66.5MB/s eta 0:00:01\r\u001b[K     |████████████████████████████▏   | 1.8MB 66.5MB/s eta 0:00:01\r\u001b[K     |████████████████████████████▍   | 1.9MB 66.5MB/s eta 0:00:01\r\u001b[K     |████████████████████████████▌   | 1.9MB 66.5MB/s eta 0:00:01\r\u001b[K     |████████████████████████████▋   | 1.9MB 66.5MB/s eta 0:00:01\r\u001b[K     |████████████████████████████▉   | 1.9MB 66.5MB/s eta 0:00:01\r\u001b[K     |█████████████████████████████   | 1.9MB 66.5MB/s eta 0:00:01\r\u001b[K     |█████████████████████████████▏  | 1.9MB 66.5MB/s eta 0:00:01\r\u001b[K     |█████████████████████████████▎  | 1.9MB 66.5MB/s eta 0:00:01\r\u001b[K     |█████████████████████████████▍  | 1.9MB 66.5MB/s eta 0:00:01\r\u001b[K     |█████████████████████████████▋  | 1.9MB 66.5MB/s eta 0:00:01\r\u001b[K     |█████████████████████████████▊  | 1.9MB 66.5MB/s eta 0:00:01\r\u001b[K     |██████████████████████████████  | 2.0MB 66.5MB/s eta 0:00:01\r\u001b[K     |██████████████████████████████  | 2.0MB 66.5MB/s eta 0:00:01\r\u001b[K     |██████████████████████████████▎ | 2.0MB 66.5MB/s eta 0:00:01\r\u001b[K     |██████████████████████████████▍ | 2.0MB 66.5MB/s eta 0:00:01\r\u001b[K     |██████████████████████████████▌ | 2.0MB 66.5MB/s eta 0:00:01\r\u001b[K     |██████████████████████████████▊ | 2.0MB 66.5MB/s eta 0:00:01\r\u001b[K     |██████████████████████████████▉ | 2.0MB 66.5MB/s eta 0:00:01\r\u001b[K     |███████████████████████████████ | 2.0MB 66.5MB/s eta 0:00:01\r\u001b[K     |███████████████████████████████▏| 2.0MB 66.5MB/s eta 0:00:01\r\u001b[K     |███████████████████████████████▎| 2.0MB 66.5MB/s eta 0:00:01\r\u001b[K     |███████████████████████████████▌| 2.1MB 66.5MB/s eta 0:00:01\r\u001b[K     |███████████████████████████████▋| 2.1MB 66.5MB/s eta 0:00:01\r\u001b[K     |███████████████████████████████▉| 2.1MB 66.5MB/s eta 0:00:01\r\u001b[K     |████████████████████████████████| 2.1MB 66.5MB/s eta 0:00:01\r\u001b[K     |████████████████████████████████| 2.1MB 66.5MB/s \n",
            "\u001b[?25hRequirement already satisfied: Flask>=1.0.2 in /usr/local/lib/python3.6/dist-packages (from syft) (1.1.1)\n",
            "Collecting lz4>=2.1.6 (from syft)\n",
            "\u001b[?25l  Downloading https://files.pythonhosted.org/packages/0a/c6/96bbb3525a63ebc53ea700cc7d37ab9045542d33b4d262d0f0408ad9bbf2/lz4-2.1.10-cp36-cp36m-manylinux1_x86_64.whl (385kB)\n",
            "\u001b[K     |████████████████████████████████| 389kB 52.9MB/s \n",
            "\u001b[?25hCollecting msgpack>=0.6.1 (from syft)\n",
            "\u001b[?25l  Downloading https://files.pythonhosted.org/packages/92/7e/ae9e91c1bb8d846efafd1f353476e3fd7309778b582d2fb4cea4cc15b9a2/msgpack-0.6.1-cp36-cp36m-manylinux1_x86_64.whl (248kB)\n",
            "\u001b[K     |████████████████████████████████| 256kB 58.8MB/s \n",
            "\u001b[?25hCollecting zstd>=1.4.0.0 (from syft)\n",
            "\u001b[?25l  Downloading https://files.pythonhosted.org/packages/22/37/6a7ba746ebddbd6cd06de84367515d6bc239acd94fb3e0b1c85788176ca2/zstd-1.4.1.0.tar.gz (454kB)\n",
            "\u001b[K     |████████████████████████████████| 460kB 54.0MB/s \n",
            "\u001b[?25hRequirement already satisfied: numpy>=1.14.0 in /usr/local/lib/python3.6/dist-packages (from syft) (1.16.4)\n",
            "Collecting websocket-client>=0.56.0 (from syft)\n",
            "\u001b[?25l  Downloading https://files.pythonhosted.org/packages/29/19/44753eab1fdb50770ac69605527e8859468f3c0fd7dc5a76dd9c4dbd7906/websocket_client-0.56.0-py2.py3-none-any.whl (200kB)\n",
            "\u001b[K     |████████████████████████████████| 204kB 52.5MB/s \n",
            "\u001b[?25hRequirement already satisfied: torchvision>=0.3.0 in /usr/local/lib/python3.6/dist-packages (from syft) (0.3.0)\n",
            "Requirement already satisfied: scikit-learn>=0.21.0 in /usr/local/lib/python3.6/dist-packages (from syft) (0.21.3)\n",
            "Collecting websockets>=7.0 (from syft)\n",
            "\u001b[?25l  Downloading https://files.pythonhosted.org/packages/f0/4b/ad228451b1c071c5c52616b7d4298ebcfcac5ae8515ede959db19e4cd56d/websockets-8.0.2-cp36-cp36m-manylinux1_x86_64.whl (72kB)\n",
            "\u001b[K     |████████████████████████████████| 81kB 29.5MB/s \n",
            "\u001b[?25hCollecting python-socketio>=4.3.0 (from flask-socketio>=3.3.2->syft)\n",
            "\u001b[?25l  Downloading https://files.pythonhosted.org/packages/1c/5a/9429c1fbc399b6079725150a36491efd6bd4691c11110f5a57e8c991de96/python_socketio-4.3.0-py2.py3-none-any.whl (46kB)\n",
            "\u001b[K     |████████████████████████████████| 51kB 27.6MB/s \n",
            "\u001b[?25hRequirement already satisfied: tensorflow<2,>=1.12.0 in /usr/local/lib/python3.6/dist-packages (from tf-encrypted>=0.5.4->syft) (1.14.0)\n",
            "Collecting pyyaml>=5.1 (from tf-encrypted>=0.5.4->syft)\n",
            "\u001b[?25l  Downloading https://files.pythonhosted.org/packages/e3/e8/b3212641ee2718d556df0f23f78de8303f068fe29cdaa7a91018849582fe/PyYAML-5.1.2.tar.gz (265kB)\n",
            "\u001b[K     |████████████████████████████████| 266kB 64.2MB/s \n",
            "\u001b[?25hRequirement already satisfied: itsdangerous>=0.24 in /usr/local/lib/python3.6/dist-packages (from Flask>=1.0.2->syft) (1.1.0)\n",
            "Requirement already satisfied: Jinja2>=2.10.1 in /usr/local/lib/python3.6/dist-packages (from Flask>=1.0.2->syft) (2.10.1)\n",
            "Requirement already satisfied: Werkzeug>=0.15 in /usr/local/lib/python3.6/dist-packages (from Flask>=1.0.2->syft) (0.15.5)\n",
            "Requirement already satisfied: click>=5.1 in /usr/local/lib/python3.6/dist-packages (from Flask>=1.0.2->syft) (7.0)\n",
            "Requirement already satisfied: six in /usr/local/lib/python3.6/dist-packages (from websocket-client>=0.56.0->syft) (1.12.0)\n",
            "Requirement already satisfied: pillow>=4.1.1 in /usr/local/lib/python3.6/dist-packages (from torchvision>=0.3.0->syft) (4.3.0)\n",
            "Requirement already satisfied: scipy>=0.17.0 in /usr/local/lib/python3.6/dist-packages (from scikit-learn>=0.21.0->syft) (1.3.0)\n",
            "Requirement already satisfied: joblib>=0.11 in /usr/local/lib/python3.6/dist-packages (from scikit-learn>=0.21.0->syft) (0.13.2)\n",
            "Collecting python-engineio>=3.9.0 (from python-socketio>=4.3.0->flask-socketio>=3.3.2->syft)\n",
            "\u001b[?25l  Downloading https://files.pythonhosted.org/packages/14/ba/5a689b07d399cd91cd91875232a1af8a63f0bd2cd0d0898da295f127544e/python_engineio-3.9.2-py2.py3-none-any.whl (119kB)\n",
            "\u001b[K     |████████████████████████████████| 122kB 46.7MB/s \n",
            "\u001b[?25hRequirement already satisfied: google-pasta>=0.1.6 in /usr/local/lib/python3.6/dist-packages (from tensorflow<2,>=1.12.0->tf-encrypted>=0.5.4->syft) (0.1.7)\n",
            "Requirement already satisfied: gast>=0.2.0 in /usr/local/lib/python3.6/dist-packages (from tensorflow<2,>=1.12.0->tf-encrypted>=0.5.4->syft) (0.2.2)\n",
            "Requirement already satisfied: absl-py>=0.7.0 in /usr/local/lib/python3.6/dist-packages (from tensorflow<2,>=1.12.0->tf-encrypted>=0.5.4->syft) (0.7.1)\n",
            "Requirement already satisfied: keras-applications>=1.0.6 in /usr/local/lib/python3.6/dist-packages (from tensorflow<2,>=1.12.0->tf-encrypted>=0.5.4->syft) (1.0.8)\n",
            "Requirement already satisfied: termcolor>=1.1.0 in /usr/local/lib/python3.6/dist-packages (from tensorflow<2,>=1.12.0->tf-encrypted>=0.5.4->syft) (1.1.0)\n",
            "Requirement already satisfied: keras-preprocessing>=1.0.5 in /usr/local/lib/python3.6/dist-packages (from tensorflow<2,>=1.12.0->tf-encrypted>=0.5.4->syft) (1.1.0)\n",
            "Requirement already satisfied: wheel>=0.26 in /usr/local/lib/python3.6/dist-packages (from tensorflow<2,>=1.12.0->tf-encrypted>=0.5.4->syft) (0.33.4)\n",
            "Requirement already satisfied: tensorflow-estimator<1.15.0rc0,>=1.14.0rc0 in /usr/local/lib/python3.6/dist-packages (from tensorflow<2,>=1.12.0->tf-encrypted>=0.5.4->syft) (1.14.0)\n",
            "Requirement already satisfied: astor>=0.6.0 in /usr/local/lib/python3.6/dist-packages (from tensorflow<2,>=1.12.0->tf-encrypted>=0.5.4->syft) (0.8.0)\n",
            "Requirement already satisfied: grpcio>=1.8.6 in /usr/local/lib/python3.6/dist-packages (from tensorflow<2,>=1.12.0->tf-encrypted>=0.5.4->syft) (1.15.0)\n",
            "Requirement already satisfied: wrapt>=1.11.1 in /usr/local/lib/python3.6/dist-packages (from tensorflow<2,>=1.12.0->tf-encrypted>=0.5.4->syft) (1.11.2)\n",
            "Requirement already satisfied: tensorboard<1.15.0,>=1.14.0 in /usr/local/lib/python3.6/dist-packages (from tensorflow<2,>=1.12.0->tf-encrypted>=0.5.4->syft) (1.14.0)\n",
            "Requirement already satisfied: protobuf>=3.6.1 in /usr/local/lib/python3.6/dist-packages (from tensorflow<2,>=1.12.0->tf-encrypted>=0.5.4->syft) (3.7.1)\n",
            "Requirement already satisfied: MarkupSafe>=0.23 in /usr/local/lib/python3.6/dist-packages (from Jinja2>=2.10.1->Flask>=1.0.2->syft) (1.1.1)\n",
            "Requirement already satisfied: olefile in /usr/local/lib/python3.6/dist-packages (from pillow>=4.1.1->torchvision>=0.3.0->syft) (0.46)\n",
            "Requirement already satisfied: h5py in /usr/local/lib/python3.6/dist-packages (from keras-applications>=1.0.6->tensorflow<2,>=1.12.0->tf-encrypted>=0.5.4->syft) (2.8.0)\n",
            "Requirement already satisfied: setuptools>=41.0.0 in /usr/local/lib/python3.6/dist-packages (from tensorboard<1.15.0,>=1.14.0->tensorflow<2,>=1.12.0->tf-encrypted>=0.5.4->syft) (41.0.1)\n",
            "Requirement already satisfied: markdown>=2.6.8 in /usr/local/lib/python3.6/dist-packages (from tensorboard<1.15.0,>=1.14.0->tensorflow<2,>=1.12.0->tf-encrypted>=0.5.4->syft) (3.1.1)\n",
            "Building wheels for collected packages: zstd, pyyaml\n",
            "  Building wheel for zstd (setup.py) ... \u001b[?25l\u001b[?25hdone\n",
            "  Created wheel for zstd: filename=zstd-1.4.1.0-cp36-cp36m-linux_x86_64.whl size=1067075 sha256=5d9549196bdc1c9bd77bb41af5dcea18911be266f07451a25f7b0c2499feaaa9\n",
            "  Stored in directory: /root/.cache/pip/wheels/66/3f/ee/ac08c81af7c1b24a80c746df669ea3cb37542d27877d66ccf4\n",
            "  Building wheel for pyyaml (setup.py) ... \u001b[?25l\u001b[?25hdone\n",
            "  Created wheel for pyyaml: filename=PyYAML-5.1.2-cp36-cp36m-linux_x86_64.whl size=44105 sha256=03ae4d86baf354fc96b775de6e6caab1285d558c2e4b32b9e631ed4e7a2a9184\n",
            "  Stored in directory: /root/.cache/pip/wheels/d9/45/dd/65f0b38450c47cf7e5312883deb97d065e030c5cca0a365030\n",
            "Successfully built zstd pyyaml\n",
            "Installing collected packages: python-engineio, python-socketio, flask-socketio, pyyaml, tf-encrypted, lz4, msgpack, zstd, websocket-client, websockets, syft\n",
            "  Found existing installation: PyYAML 3.13\n",
            "    Uninstalling PyYAML-3.13:\n",
            "      Successfully uninstalled PyYAML-3.13\n",
            "  Found existing installation: msgpack 0.5.6\n",
            "    Uninstalling msgpack-0.5.6:\n",
            "      Successfully uninstalled msgpack-0.5.6\n",
            "Successfully installed flask-socketio-4.2.0 lz4-2.1.10 msgpack-0.6.1 python-engineio-3.9.2 python-socketio-4.3.0 pyyaml-5.1.2 syft-0.1.21a1 tf-encrypted-0.5.7 websocket-client-0.56.0 websockets-8.0.2 zstd-1.4.1.0\n"
          ],
          "name": "stdout"
        }
      ]
    },
    {
      "cell_type": "code",
      "metadata": {
        "id": "eMbE7wDEFOAq",
        "colab_type": "code",
        "outputId": "02d75fcb-163d-4654-9be0-ee83cbbc8006",
        "colab": {
          "base_uri": "https://localhost:8080/",
          "height": 108
        }
      },
      "source": [
        "import string\n",
        "import torch as th\n",
        "import syft as sy\n",
        "hook = sy.TorchHook(th)"
      ],
      "execution_count": 0,
      "outputs": [
        {
          "output_type": "stream",
          "text": [
            "WARNING: Logging before flag parsing goes to stderr.\n",
            "W0803 18:31:47.594170 140601560504192 secure_random.py:26] Falling back to insecure randomness since the required custom op could not be found for the installed version of TensorFlow. Fix this by compiling custom ops. Missing file was '/usr/local/lib/python3.6/dist-packages/tf_encrypted/operations/secure_random/secure_random_module_tf_1.14.0.so'\n",
            "W0803 18:31:47.610126 140601560504192 deprecation_wrapper.py:119] From /usr/local/lib/python3.6/dist-packages/tf_encrypted/session.py:26: The name tf.Session is deprecated. Please use tf.compat.v1.Session instead.\n",
            "\n"
          ],
          "name": "stderr"
        }
      ]
    },
    {
      "cell_type": "code",
      "metadata": {
        "id": "TATJmtrXDWNu",
        "colab_type": "code",
        "colab": {}
      },
      "source": [
        "bob = sy.VirtualWorker(hook, id=\"bob\").add_worker(sy.local_worker)\n",
        "alice = sy.VirtualWorker(hook, id=\"alice\").add_worker(sy.local_worker)\n",
        "secure_worker = sy.VirtualWorker(hook, id=\"secure_worker\").add_worker(sy.local_worker)"
      ],
      "execution_count": 0,
      "outputs": []
    },
    {
      "cell_type": "code",
      "metadata": {
        "id": "2Q-PZwSEFaI-",
        "colab_type": "code",
        "colab": {}
      },
      "source": [
        "char2index = {}\n",
        "index2char = {}\n",
        "\n",
        "for i,char in enumerate(' '+string.ascii_lowercase+'0123456789'+string.punctuation):\n",
        "  char2index[char] = i\n",
        "  index2char[i] = char"
      ],
      "execution_count": 0,
      "outputs": []
    },
    {
      "cell_type": "code",
      "metadata": {
        "id": "OIl-YfeWF4HD",
        "colab_type": "code",
        "colab": {}
      },
      "source": [
        "def string2values(str_input,max_length=8):\n",
        "  str_input = str_input[:max_length].lower()\n",
        "  if(len(str_input)<max_length):\n",
        "    str_input = str_input + \".\" * (max_length-len(str_input))\n",
        "  values = list()\n",
        "  for char in str_input:\n",
        "    values.append(char2index[char])\n",
        "  return th.tensor(values).long()\n",
        "\n",
        "def one_hot(index,length):\n",
        "  vect = th.zeros(length).long()\n",
        "  vect[index]=1\n",
        "  return vect\n",
        "\n",
        "def string2one_hot_matrix(str_input,max_length=8):\n",
        "  str_input = str_input[:max_length].lower()\n",
        "  if(len(str_input)<max_length):\n",
        "    str_input = str_input + \".\" * (max_length-len(str_input))\n",
        "  values = list()\n",
        "  for char in str_input:\n",
        "    values.append(one_hot(char2index[char],len(char2index)).unsqueeze(0))\n",
        "  return th.cat(values,dim=0) #0th dimension\n",
        "\n",
        "def values2string(input_values):\n",
        "  s = \"\"\n",
        "  for value in input_values:\n",
        "    s+=index2char[int(value)]\n",
        "  return s\n",
        "\n",
        "def string_equal(str_a,str_b):\n",
        "  vect = (str_a * str_b).sum(1)\n",
        "  x = vect[0]\n",
        "  for i in range(vect.shape[0]-1):\n",
        "    x = x * vect[i+1]\n",
        "  return x"
      ],
      "execution_count": 0,
      "outputs": []
    },
    {
      "cell_type": "code",
      "metadata": {
        "id": "QmRY0w02AQks",
        "colab_type": "code",
        "colab": {}
      },
      "source": [
        "class EncryptedDB():\n",
        "  def __init__(self,*owners,max_key_len=8, max_value_len=8):\n",
        "    self.max_key_len = max_key_len\n",
        "    self.max_value_len = max_value_len\n",
        "    self.keys = list()\n",
        "    self.values = list()\n",
        "    self.owners = owners\n",
        "    \n",
        "  def add_entry(self,key,value):\n",
        "    key = string2one_hot_matrix(key)\n",
        "    key = key.share(*self.owners)\n",
        "    self.keys.append(key)\n",
        "    \n",
        "    value = string2values(value)\n",
        "    value = value.share(*self.owners)\n",
        "    self.values.append(value)\n",
        "    \n",
        "  def query(self,query_str):\n",
        "      query_matrix = string2one_hot_matrix(query_str)\n",
        "      query_matrix = query_matrix.share(*self.owners)\n",
        "      key_matches = list()\n",
        "      for key in self.keys:\n",
        "        key_match = string_equal(key,query_matrix)\n",
        "        key_matches.append(key_match)\n",
        "      result = self.values[0]*key_matches[0]\n",
        "      for i in range(len(self.values)-1):\n",
        "        result +=self.values[i+1] * key_matches[i+1]\n",
        "      result = result.get()\n",
        "      return values2string(result).replace('.','')"
      ],
      "execution_count": 0,
      "outputs": []
    },
    {
      "cell_type": "code",
      "metadata": {
        "id": "LSwEs9z-AeqM",
        "colab_type": "code",
        "outputId": "5980c270-67ff-4441-b605-71a1968e24d4",
        "colab": {
          "base_uri": "https://localhost:8080/",
          "height": 34
        }
      },
      "source": [
        "db = EncryptedDB(bob,alice,secure_worker)\n",
        "\n",
        "db.add_entry(\"key1\",\"value1\")\n",
        "db.add_entry(\"key2\",\"value2\")\n",
        "db.add_entry(\"key3\",\"value3\")\n",
        "db.add_entry(\"key4\",\"value4\")\n",
        "\n",
        "db.query(\"key1\")"
      ],
      "execution_count": 0,
      "outputs": [
        {
          "output_type": "execute_result",
          "data": {
            "text/plain": [
              "'value1'"
            ]
          },
          "metadata": {
            "tags": []
          },
          "execution_count": 29
        }
      ]
    }
  ]
}